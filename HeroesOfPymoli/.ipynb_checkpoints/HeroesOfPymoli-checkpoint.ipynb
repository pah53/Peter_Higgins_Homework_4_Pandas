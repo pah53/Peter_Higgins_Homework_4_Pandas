{
 "cells": [
  {
   "cell_type": "code",
   "execution_count": 1,
   "metadata": {},
   "outputs": [
    {
     "data": {
      "text/html": [
       "<div>\n",
       "<style scoped>\n",
       "    .dataframe tbody tr th:only-of-type {\n",
       "        vertical-align: middle;\n",
       "    }\n",
       "\n",
       "    .dataframe tbody tr th {\n",
       "        vertical-align: top;\n",
       "    }\n",
       "\n",
       "    .dataframe thead th {\n",
       "        text-align: right;\n",
       "    }\n",
       "</style>\n",
       "<table border=\"1\" class=\"dataframe\">\n",
       "  <thead>\n",
       "    <tr style=\"text-align: right;\">\n",
       "      <th></th>\n",
       "      <th>Purchase ID</th>\n",
       "      <th>SN</th>\n",
       "      <th>Age</th>\n",
       "      <th>Gender</th>\n",
       "      <th>Item ID</th>\n",
       "      <th>Item Name</th>\n",
       "      <th>Price</th>\n",
       "    </tr>\n",
       "  </thead>\n",
       "  <tbody>\n",
       "    <tr>\n",
       "      <th>0</th>\n",
       "      <td>0</td>\n",
       "      <td>Lisim78</td>\n",
       "      <td>20</td>\n",
       "      <td>Male</td>\n",
       "      <td>108</td>\n",
       "      <td>Extraction, Quickblade Of Trembling Hands</td>\n",
       "      <td>3.53</td>\n",
       "    </tr>\n",
       "    <tr>\n",
       "      <th>1</th>\n",
       "      <td>1</td>\n",
       "      <td>Lisovynya38</td>\n",
       "      <td>40</td>\n",
       "      <td>Male</td>\n",
       "      <td>143</td>\n",
       "      <td>Frenzied Scimitar</td>\n",
       "      <td>1.56</td>\n",
       "    </tr>\n",
       "    <tr>\n",
       "      <th>2</th>\n",
       "      <td>2</td>\n",
       "      <td>Ithergue48</td>\n",
       "      <td>24</td>\n",
       "      <td>Male</td>\n",
       "      <td>92</td>\n",
       "      <td>Final Critic</td>\n",
       "      <td>4.88</td>\n",
       "    </tr>\n",
       "    <tr>\n",
       "      <th>3</th>\n",
       "      <td>3</td>\n",
       "      <td>Chamassasya86</td>\n",
       "      <td>24</td>\n",
       "      <td>Male</td>\n",
       "      <td>100</td>\n",
       "      <td>Blindscythe</td>\n",
       "      <td>3.27</td>\n",
       "    </tr>\n",
       "    <tr>\n",
       "      <th>4</th>\n",
       "      <td>4</td>\n",
       "      <td>Iskosia90</td>\n",
       "      <td>23</td>\n",
       "      <td>Male</td>\n",
       "      <td>131</td>\n",
       "      <td>Fury</td>\n",
       "      <td>1.44</td>\n",
       "    </tr>\n",
       "  </tbody>\n",
       "</table>\n",
       "</div>"
      ],
      "text/plain": [
       "   Purchase ID             SN  Age Gender  Item ID  \\\n",
       "0            0        Lisim78   20   Male      108   \n",
       "1            1    Lisovynya38   40   Male      143   \n",
       "2            2     Ithergue48   24   Male       92   \n",
       "3            3  Chamassasya86   24   Male      100   \n",
       "4            4      Iskosia90   23   Male      131   \n",
       "\n",
       "                                   Item Name  Price  \n",
       "0  Extraction, Quickblade Of Trembling Hands   3.53  \n",
       "1                          Frenzied Scimitar   1.56  \n",
       "2                               Final Critic   4.88  \n",
       "3                                Blindscythe   3.27  \n",
       "4                                       Fury   1.44  "
      ]
     },
     "execution_count": 1,
     "metadata": {},
     "output_type": "execute_result"
    }
   ],
   "source": [
    "import pandas as pd\n",
    "\n",
    "file = \"04-Pandas_homework_Instructions_HeroesOfPymoli_Resources_purchase_data.csv\"\n",
    "purchase_data = pd.read_csv(file)\n",
    "purchase_data.head()"
   ]
  },
  {
   "cell_type": "code",
   "execution_count": 2,
   "metadata": {},
   "outputs": [
    {
     "name": "stdout",
     "output_type": "stream",
     "text": [
      "Total number of players: 576\n"
     ]
    }
   ],
   "source": [
    "#Total player count\n",
    "players_list = purchase_data[\"SN\"].unique()\n",
    "print(f'Total number of players: {len(players_list)}')"
   ]
  },
  {
   "cell_type": "code",
   "execution_count": 3,
   "metadata": {},
   "outputs": [
    {
     "name": "stdout",
     "output_type": "stream",
     "text": [
      "Average purchase price: 3.050987179487176\n",
      "Number of unique items: 179\n",
      "Total number of purchases: 780\n",
      "Total revenue: 2379.77\n"
     ]
    }
   ],
   "source": [
    "#Average purchase price\n",
    "average_purchase_price = purchase_data[\"Price\"].mean()\n",
    "print(f'Average purchase price: {average_purchase_price}')\n",
    "\n",
    "#Unique items\n",
    "unique_items = purchase_data[\"Item Name\"].unique()\n",
    "print(f'Number of unique items: {len(unique_items)}')\n",
    "\n",
    "#Total number of purchases\n",
    "print(f'Total number of purchases: {purchase_data[\"Price\"].count()}')\n",
    "\n",
    "#Total revenue\n",
    "total_revenue = purchase_data[\"Price\"].sum()\n",
    "print(f'Total revenue: {total_revenue}')"
   ]
  },
  {
   "cell_type": "code",
   "execution_count": 4,
   "metadata": {},
   "outputs": [
    {
     "name": "stdout",
     "output_type": "stream",
     "text": [
      "Males count: 652\n",
      "Males percentage: 83.58974358974359\n",
      "Females count: 113\n",
      "Females percentage: 14.487179487179489\n",
      "Non-binary count: 15\n",
      "Non-binary percentage: 1.9230769230769231\n"
     ]
    }
   ],
   "source": [
    "#Gender totals and percentages\n",
    "gender_total = purchase_data[\"Gender\"].count()\n",
    "\n",
    "only_males_list = purchase_data.loc[purchase_data[\"Gender\"] == \"Male\", :]\n",
    "only_males_count = len(only_males_list)\n",
    "only_females_list = purchase_data.loc[purchase_data[\"Gender\"] == \"Female\", :]\n",
    "only_females_count = len(only_females_list)\n",
    "only_non_binary_list = purchase_data.loc[purchase_data[\"Gender\"] == \"Other / Non-Disclosed\", :]\n",
    "only_non_binary_count = len(only_non_binary_list)\n",
    "\n",
    "males_percent = (only_males_count / gender_total) * 100\n",
    "females_percent = (only_females_count / gender_total) * 100\n",
    "non_binary_percent = (only_non_binary_count / gender_total) * 100\n",
    "\n",
    "print(f'Males count: {only_males_count}')\n",
    "print(f'Males percentage: {males_percent}')\n",
    "print(f'Females count: {only_females_count}')\n",
    "print(f'Females percentage: {females_percent}')\n",
    "print(f'Non-binary count: {only_non_binary_count}')\n",
    "print(f'Non-binary percentage: {non_binary_percent}')"
   ]
  },
  {
   "cell_type": "code",
   "execution_count": 5,
   "metadata": {},
   "outputs": [
    {
     "data": {
      "text/plain": [
       "'Total Purchase Count:'"
      ]
     },
     "metadata": {},
     "output_type": "display_data"
    },
    {
     "data": {
      "text/plain": [
       "Gender\n",
       "Female                   113\n",
       "Male                     652\n",
       "Other / Non-Disclosed     15\n",
       "Name: Purchase ID, dtype: int64"
      ]
     },
     "metadata": {},
     "output_type": "display_data"
    },
    {
     "data": {
      "text/plain": [
       "'Average Purchase Price:'"
      ]
     },
     "metadata": {},
     "output_type": "display_data"
    },
    {
     "data": {
      "text/plain": [
       "Gender\n",
       "Female                   3.203009\n",
       "Male                     3.017853\n",
       "Other / Non-Disclosed    3.346000\n",
       "Name: Price, dtype: float64"
      ]
     },
     "metadata": {},
     "output_type": "display_data"
    },
    {
     "data": {
      "text/plain": [
       "'Total Purchase Value:'"
      ]
     },
     "metadata": {},
     "output_type": "display_data"
    },
    {
     "data": {
      "text/plain": [
       "Gender\n",
       "Female                    361.94\n",
       "Male                     1967.64\n",
       "Other / Non-Disclosed      50.19\n",
       "Name: Price, dtype: float64"
      ]
     },
     "metadata": {},
     "output_type": "display_data"
    },
    {
     "data": {
      "text/plain": [
       "'Average Purchase Value per Person:'"
      ]
     },
     "metadata": {},
     "output_type": "display_data"
    },
    {
     "data": {
      "text/plain": [
       "Gender\n",
       "Female                   120.646667\n",
       "Male                     655.880000\n",
       "Other / Non-Disclosed     16.730000\n",
       "Name: Price, dtype: float64"
      ]
     },
     "metadata": {},
     "output_type": "display_data"
    }
   ],
   "source": [
    "#Gender breakdown\n",
    "gender_breakdown = purchase_data.groupby([\"Gender\"])\n",
    "\n",
    "purchase_count = gender_breakdown[\"Purchase ID\"].count()\n",
    "average_price = gender_breakdown[\"Price\"].mean()\n",
    "total_purchase_value = gender_breakdown[\"Price\"].sum()\n",
    "gendered_players_list = gender_breakdown[\"SN\"].unique()\n",
    "av_per_person = total_purchase_value / len(gendered_players_list)\n",
    "\n",
    "display(\"Total Purchase Count:\")\n",
    "display(purchase_count)\n",
    "display(\"Average Purchase Price:\")\n",
    "display(average_price)\n",
    "display(\"Total Purchase Value:\")\n",
    "display(total_purchase_value)\n",
    "display(\"Average Purchase Value per Person:\")\n",
    "display(av_per_person)"
   ]
  },
  {
   "cell_type": "code",
   "execution_count": 6,
   "metadata": {},
   "outputs": [
    {
     "data": {
      "text/plain": [
       "'Total Purchase Count:'"
      ]
     },
     "metadata": {},
     "output_type": "display_data"
    },
    {
     "data": {
      "text/plain": [
       "Gender\n",
       "Female                   113\n",
       "Male                     652\n",
       "Other / Non-Disclosed     15\n",
       "Name: Purchase ID, dtype: int64"
      ]
     },
     "metadata": {},
     "output_type": "display_data"
    },
    {
     "data": {
      "text/plain": [
       "'Average Purchase Price:'"
      ]
     },
     "metadata": {},
     "output_type": "display_data"
    },
    {
     "data": {
      "text/plain": [
       "Binned Ages of 4 Yr Intervals\n",
       "<10      2.681579\n",
       "10-14    3.034602\n",
       "14-18    3.038937\n",
       "18-22    3.063961\n",
       "22-26    2.876667\n",
       "26-30    2.728421\n",
       "30-34    3.552857\n",
       "34-38    3.366667\n",
       "38-42    2.765000\n",
       "42-46         NaN\n",
       "46-50         NaN\n",
       ">56           NaN\n",
       "Name: Price, dtype: float64"
      ]
     },
     "metadata": {},
     "output_type": "display_data"
    },
    {
     "data": {
      "text/plain": [
       "'Total Purchase Value:'"
      ]
     },
     "metadata": {},
     "output_type": "display_data"
    },
    {
     "data": {
      "text/plain": [
       "Binned Ages of 4 Yr Intervals\n",
       "<10       50.95\n",
       "10-14    342.91\n",
       "14-18    771.89\n",
       "18-22    634.24\n",
       "22-26    181.23\n",
       "26-30    103.68\n",
       "30-34    124.35\n",
       "34-38     50.50\n",
       "38-42     11.06\n",
       "42-46      0.00\n",
       "46-50      0.00\n",
       ">56        0.00\n",
       "Name: Price, dtype: float64"
      ]
     },
     "metadata": {},
     "output_type": "display_data"
    },
    {
     "data": {
      "text/plain": [
       "'Average Purchase Value per Person:'"
      ]
     },
     "metadata": {},
     "output_type": "display_data"
    },
    {
     "data": {
      "text/plain": [
       "Binned Ages of 4 Yr Intervals\n",
       "<10       4.245833\n",
       "10-14    28.575833\n",
       "14-18    64.324167\n",
       "18-22    52.853333\n",
       "22-26    15.102500\n",
       "26-30     8.640000\n",
       "30-34    10.362500\n",
       "34-38     4.208333\n",
       "38-42     0.921667\n",
       "42-46     0.000000\n",
       "46-50     0.000000\n",
       ">56       0.000000\n",
       "Name: Price, dtype: float64"
      ]
     },
     "metadata": {},
     "output_type": "display_data"
    }
   ],
   "source": [
    "#creating bins of 4 years\n",
    "\n",
    "bins = [10, 14, 18, 22, 26, 30, 34, 38, 42, 46, 50, 54, 58]\n",
    "group_names_4 = [\"<10\", \"10-14\", \"14-18\", \"18-22\", \"22-26\", \"26-30\", \"30-34\", \"34-38\", \"38-42\", \"42-46\", \"46-50\", \">56\"]\n",
    "\n",
    "purchase_data[\"Binned Ages of 4 Yr Intervals\"] = pd.cut(purchase_data[\"Age\"], bins, labels = group_names_4)\n",
    "\n",
    "age_breakdown = purchase_data.groupby([\"Binned Ages of 4 Yr Intervals\"])\n",
    "\n",
    "total_purchase_count = age_breakdown[\"Purchase ID\"].count()\n",
    "average_price = age_breakdown[\"Price\"].mean()\n",
    "total_purchase_value = age_breakdown[\"Price\"].sum()\n",
    "age_binned_players_list = age_breakdown[\"SN\"].unique()\n",
    "av_per_person = total_purchase_value / len(age_binned_players_list)\n",
    "\n",
    "display(\"Total Purchase Count:\")\n",
    "display(purchase_count)\n",
    "display(\"Average Purchase Price:\")\n",
    "display(average_price)\n",
    "display(\"Total Purchase Value:\")\n",
    "display(total_purchase_value)\n",
    "display(\"Average Purchase Value per Person:\")\n",
    "display(av_per_person)"
   ]
  },
  {
   "cell_type": "code",
   "execution_count": 7,
   "metadata": {},
   "outputs": [
    {
     "name": "stdout",
     "output_type": "stream",
     "text": [
      "The Top Five Spenders' Total Purchase Volume:\n",
      "-------------------------\n",
      "SN\n",
      "Lisosia93      18.96\n",
      "Idastidru52    15.45\n",
      "Chamjask73     13.83\n",
      "Iral74         13.62\n",
      "Iskadarya95    13.10\n",
      "Name: Price, dtype: float64\n",
      "-------------------------\n",
      "Lisosia93 purchase count:  5\n",
      "Lisosia93 purchase price average: 3.7920000000000003\n",
      "Idastidru52 purchase count:  4\n",
      "Idastidru52 purchase price average: 3.8625\n",
      "Chamjask73 purchase count:  3\n",
      "Chamjask73 purchase price average: 4.61\n",
      "Iral74 purchase count:  4\n",
      "Iral74 purchase price average: 3.4049999999999994\n",
      "Iskadarya95 purchase count:  3\n",
      "Iskadarya95 purchase price average: 4.366666666666666\n"
     ]
    }
   ],
   "source": [
    "#Finding the 5 top spenders\n",
    "\n",
    "#Creating a new data frame grouped by players and summing the \"Price\" column to find top spenders by volume\n",
    "grouped_by_players = purchase_data.groupby([\"SN\"])\n",
    "grouped_players_spending = grouped_by_players[\"Price\"].sum()\n",
    "sorted_players_volume = grouped_players_spending.sort_values(ascending = False)\n",
    "\n",
    "print(\"The Top Five Spenders' Total Purchase Volume:\")\n",
    "print(\"-------------------------\")\n",
    "print(sorted_players_volume.head(5))\n",
    "\n",
    "#Creating a new data frames with only the info of the top 5 spenders by purchase volume\n",
    "\n",
    "only_Lisosia93_df = purchase_data.loc[purchase_data[\"SN\"] == \"Lisosia93\", :]\n",
    "only_Idastidru52_df = purchase_data.loc[purchase_data[\"SN\"] == \"Idastidru52\", :]\n",
    "only_Chamjask73_df = purchase_data.loc[purchase_data[\"SN\"] == \"Chamjask73\", :]\n",
    "only_Iral74_df = purchase_data.loc[purchase_data[\"SN\"] == \"Iral74\", :]\n",
    "only_Iskadarya95_df = purchase_data.loc[purchase_data[\"SN\"] == \"Iskadarya95\", :]\n",
    "\n",
    "#Finding relevant variables within those newly created data frames\n",
    "\n",
    "only_Lisosia93_count = only_Lisosia93_df[\"Price\"].count()\n",
    "only_Lisosia93_ave = only_Lisosia93_df[\"Price\"].mean()\n",
    "only_Idastidru52_count = only_Idastidru52_df[\"Price\"].count()\n",
    "only_Idastidru52_ave = only_Idastidru52_df[\"Price\"].mean()\n",
    "only_Chamjask73_count = only_Chamjask73_df[\"Price\"].count()\n",
    "only_Chamjask73_ave = only_Chamjask73_df[\"Price\"].mean()\n",
    "only_Iral74_count = only_Iral74_df[\"Price\"].count()\n",
    "only_Iral74_ave = only_Iral74_df[\"Price\"].mean()\n",
    "only_Iskadarya95_count = only_Iskadarya95_df[\"Price\"].count()\n",
    "only_Iskadarya95_ave = only_Iskadarya95_df[\"Price\"].mean()\n",
    "\n",
    "#Printing additional relevant statistics\n",
    "\n",
    "print(\"-------------------------\")\n",
    "print(f'Lisosia93 purchase count:  {only_Lisosia93_count}')\n",
    "print(f'Lisosia93 purchase price average: {only_Lisosia93_ave}')\n",
    "print(f'Idastidru52 purchase count:  {only_Idastidru52_count}')\n",
    "print(f'Idastidru52 purchase price average: {only_Idastidru52_ave}')\n",
    "print(f'Chamjask73 purchase count:  {only_Chamjask73_count}')\n",
    "print(f'Chamjask73 purchase price average: {only_Chamjask73_ave}')\n",
    "print(f'Iral74 purchase count:  {only_Iral74_count}')\n",
    "print(f'Iral74 purchase price average: {only_Iral74_ave}')\n",
    "print(f'Iskadarya95 purchase count:  {only_Iskadarya95_count}')\n",
    "print(f'Iskadarya95 purchase price average: {only_Iskadarya95_ave}')"
   ]
  },
  {
   "cell_type": "code",
   "execution_count": 8,
   "metadata": {},
   "outputs": [
    {
     "name": "stdout",
     "output_type": "stream",
     "text": [
      "The Top Five Most Popular Item By Purchase Count:\n",
      "-------------------------\n",
      "Item Name\n",
      "Final Critic                                    13\n",
      "Oathbreaker, Last Hope of the Breaking Storm    12\n",
      "Nirvana                                          9\n",
      "Persuasion                                       9\n",
      "Fiery Glass Crusader                             9\n",
      "Name: Item Name, dtype: int64\n",
      "-------------------------\n",
      "Final Critic Index, Item ID: 2    92\n",
      "Name: Item ID, dtype: int64\n",
      "Final Critic Index, Item Price: 2    4.88\n",
      "Name: Price, dtype: float64\n",
      "Final Critic Total Purcase Value: 59.99\n",
      "Oathbreaker Index, Item ID: 25    178\n",
      "Name: Item ID, dtype: int64\n",
      "Oathbreaker Index, Item Price: 25    4.23\n",
      "Name: Price, dtype: float64\n",
      "Oathbreaker Total Purcase Value: 50.76000000000002\n",
      "Nirvana Index, Item ID: 18    82\n",
      "Name: Item ID, dtype: int64\n",
      "Nirvana Index, Item Price: 25    4.23\n",
      "Name: Price, dtype: float64\n",
      "Nirvana Total Purcase Value: 50.76000000000002\n",
      "Persuasion Index, Item ID: 24    141\n",
      "Name: Item ID, dtype: int64\n",
      "Persuasion Index, Item Price: 24    3.19\n",
      "Name: Price, dtype: float64\n",
      "Persuasion Total Purcase Value: 28.989999999999995\n",
      "Fiery Glass Crusader Index, Item ID: 132    145\n",
      "Name: Item ID, dtype: int64\n",
      "Fiery Glass Crusader Index, Item Price: 132    4.58\n",
      "Name: Price, dtype: float64\n",
      "Fiery Glass Crusader Total Purcase Value: 41.22\n"
     ]
    }
   ],
   "source": [
    "#Finding the 5 most popular items\n",
    "\n",
    "#Creating a new data frame grouped by items name and counting each item's frequency\n",
    "\n",
    "grouped_by_item = purchase_data.groupby([\"Item Name\"])\n",
    "grouped_item_count = grouped_by_item[\"Item Name\"].count()\n",
    "sorted_item_count = grouped_item_count.sort_values(ascending = False)\n",
    "\n",
    "print(\"The Top Five Most Popular Item By Purchase Count:\")\n",
    "print(\"-------------------------\")\n",
    "print(sorted_item_count.head(5))\n",
    "\n",
    "#Creating a new data frames with only the info of the top 5 most popular items\n",
    "\n",
    "only_final_critic_df = purchase_data.loc[purchase_data[\"Item Name\"] == \"Final Critic\", :]\n",
    "only_oathbreaker_df = purchase_data.loc[purchase_data[\"Item Name\"] == \"Oathbreaker, Last Hope of the Breaking Storm\", :]\n",
    "only_nirvana_df = purchase_data.loc[purchase_data[\"Item Name\"] == \"Nirvana\", :]\n",
    "only_persuasion_df = purchase_data.loc[purchase_data[\"Item Name\"] == \"Persuasion\", :]\n",
    "only_fiery_glass_crusader_df = purchase_data.loc[purchase_data[\"Item Name\"] == \"Fiery Glass Crusader\", :]\n",
    "\n",
    "#Finding relevant variables within those newly created data frames\n",
    "\n",
    "only_final_critic_id = only_final_critic_df[\"Item ID\"]\n",
    "only_final_critic_price = only_final_critic_df[\"Price\"]\n",
    "only_final_critic_total_value = only_final_critic_df[\"Price\"].sum()\n",
    "only_oathbreaker_id = only_oathbreaker_df[\"Item ID\"]\n",
    "only_oathbreaker_price = only_oathbreaker_df[\"Price\"]\n",
    "only_oathbreaker_total_value = only_oathbreaker_df[\"Price\"].sum()\n",
    "only_nirvana_id = only_nirvana_df[\"Item ID\"]\n",
    "only_nirvana_price = only_nirvana_df[\"Price\"]\n",
    "only_nirvana_total_value = only_nirvana_df[\"Price\"].sum()\n",
    "only_persuasion_id = only_persuasion_df[\"Item ID\"]\n",
    "only_persuasion_price = only_persuasion_df[\"Price\"]\n",
    "only_persuasion_total_value = only_persuasion_df[\"Price\"].sum()\n",
    "only_fiery_glass_crusader_id = only_fiery_glass_crusader_df[\"Item ID\"]\n",
    "only_fiery_glass_crusader_price = only_fiery_glass_crusader_df[\"Price\"]\n",
    "only_fiery_glass_crusader_total_value = only_fiery_glass_crusader_df[\"Price\"].sum()\n",
    "\n",
    "#Printing additional relevant statistics\n",
    "\n",
    "print(\"-------------------------\")\n",
    "print(f'Final Critic Index, Item ID: {only_final_critic_id.head(1)}')\n",
    "print(f'Final Critic Index, Item Price: {only_final_critic_price.head(1)}')\n",
    "print(f'Final Critic Total Purcase Value: {only_final_critic_total_value}')\n",
    "print(f'Oathbreaker Index, Item ID: {only_oathbreaker_id.head(1)}')\n",
    "print(f'Oathbreaker Index, Item Price: {only_oathbreaker_price.head(1)}')\n",
    "print(f'Oathbreaker Total Purcase Value: {only_oathbreaker_total_value}')\n",
    "print(f'Nirvana Index, Item ID: {only_nirvana_id.head(1)}')\n",
    "print(f'Nirvana Index, Item Price: {only_oathbreaker_price.head(1)}')\n",
    "print(f'Nirvana Total Purcase Value: {only_oathbreaker_total_value}')\n",
    "print(f'Persuasion Index, Item ID: {only_persuasion_id.head(1)}')\n",
    "print(f'Persuasion Index, Item Price: {only_persuasion_price.head(1)}')\n",
    "print(f'Persuasion Total Purcase Value: {only_persuasion_total_value}')\n",
    "print(f'Fiery Glass Crusader Index, Item ID: {only_fiery_glass_crusader_id.head(1)}')\n",
    "print(f'Fiery Glass Crusader Index, Item Price: {only_fiery_glass_crusader_price.head(1)}')\n",
    "print(f'Fiery Glass Crusader Total Purcase Value: {only_fiery_glass_crusader_total_value}')"
   ]
  },
  {
   "cell_type": "code",
   "execution_count": 9,
   "metadata": {},
   "outputs": [
    {
     "name": "stdout",
     "output_type": "stream",
     "text": [
      "The Top Five Most Popular Item By Purchase Value:\n",
      "-------------------------\n",
      "Item Name\n",
      "Final Critic                                    59.99\n",
      "Oathbreaker, Last Hope of the Breaking Storm    50.76\n",
      "Nirvana                                         44.10\n",
      "Fiery Glass Crusader                            41.22\n",
      "Singed Scalpel                                  34.80\n",
      "Name: Price, dtype: float64\n",
      "-------------------------\n",
      "Final Critic Index, Item ID: 2    92\n",
      "Name: Item ID, dtype: int64\n",
      "Final Critic Index, Item Price: 2    4.88\n",
      "Name: Price, dtype: float64\n",
      "Final Critic Total Purcase Count: 13\n",
      "Oathbreaker Index, Item ID: 25    178\n",
      "Name: Item ID, dtype: int64\n",
      "Oathbreaker Index, Item Price: 25    4.23\n",
      "Name: Price, dtype: float64\n",
      "Oathbreaker Total Purcase Count: 12\n",
      "Nirvana Index, Item ID: 18    82\n",
      "Name: Item ID, dtype: int64\n",
      "Nirvana Index, Item Price: 25    4.23\n",
      "Name: Price, dtype: float64\n",
      "Nirvana Total Purcase Count: 9\n",
      "Fiery Glass Crusader Index, Item ID: 132    145\n",
      "Name: Item ID, dtype: int64\n",
      "Fiery Glass Crusader Index, Item Price: 132    4.58\n",
      "Name: Price, dtype: float64\n",
      "Fiery Glass Crusader Total Purcase Count: 9\n",
      "Signed Scalpel Index, Item ID: 175    103\n",
      "Name: Item ID, dtype: int64\n",
      "Signed Scalpel Index, Item Price: 175    4.35\n",
      "Name: Price, dtype: float64\n",
      "Signed Scalpel Total Purcase Count: 8\n"
     ]
    }
   ],
   "source": [
    "#Finding the 5 most popular items by purchase value\n",
    "\n",
    "#Creating a new data frame grouped by items name and counting each item's frequency\n",
    "\n",
    "grouped_by_item = purchase_data.groupby([\"Item Name\"])\n",
    "grouped_item_value = grouped_by_item[\"Price\"].sum()\n",
    "sorted_item_value = grouped_item_value.sort_values(ascending = False)\n",
    "\n",
    "print(\"The Top Five Most Popular Item By Purchase Value:\")\n",
    "print(\"-------------------------\")\n",
    "print(sorted_item_value.head(5))\n",
    "\n",
    "#Creating a new data frames with only the info of the top 5 most popular items by purchase value\n",
    "\n",
    "only_final_critic_df = purchase_data.loc[purchase_data[\"Item Name\"] == \"Final Critic\", :]\n",
    "only_oathbreaker_df = purchase_data.loc[purchase_data[\"Item Name\"] == \"Oathbreaker, Last Hope of the Breaking Storm\", :]\n",
    "only_nirvana_df = purchase_data.loc[purchase_data[\"Item Name\"] == \"Nirvana\", :]\n",
    "only_fiery_glass_crusader_df = purchase_data.loc[purchase_data[\"Item Name\"] == \"Fiery Glass Crusader\", :]\n",
    "only_signed_scalpel_df = purchase_data.loc[purchase_data[\"Item Name\"] == \"Singed Scalpel\", :]\n",
    "\n",
    "\n",
    "#Finding relevant variables within those newly created data frames\n",
    "\n",
    "only_final_critic_id = only_final_critic_df[\"Item ID\"]\n",
    "only_final_critic_price = only_final_critic_df[\"Price\"]\n",
    "only_final_critic_count = only_final_critic_df[\"Price\"].count()\n",
    "only_oathbreaker_id = only_oathbreaker_df[\"Item ID\"]\n",
    "only_oathbreaker_price = only_oathbreaker_df[\"Price\"]\n",
    "only_oathbreaker_count = only_oathbreaker_df[\"Price\"].count()\n",
    "only_nirvana_id = only_nirvana_df[\"Item ID\"]\n",
    "only_nirvana_price = only_nirvana_df[\"Price\"]\n",
    "only_nirvana_count = only_nirvana_df[\"Price\"].count()\n",
    "only_fiery_glass_crusader_id = only_fiery_glass_crusader_df[\"Item ID\"]\n",
    "only_fiery_glass_crusader_price = only_fiery_glass_crusader_df[\"Price\"]\n",
    "only_fiery_glass_crusader_count = only_fiery_glass_crusader_df[\"Price\"].count()\n",
    "only_signed_scalpel_id = only_signed_scalpel_df[\"Item ID\"]\n",
    "only_signed_scalpel_price = only_signed_scalpel_df[\"Price\"]\n",
    "only_signed_scalpel_count = only_signed_scalpel_df[\"Price\"].count()\n",
    "\n",
    "\n",
    "#Printing additional relevant statistics\n",
    "\n",
    "print(\"-------------------------\")\n",
    "print(f'Final Critic Index, Item ID: {only_final_critic_id.head(1)}')\n",
    "print(f'Final Critic Index, Item Price: {only_final_critic_price.head(1)}')\n",
    "print(f'Final Critic Total Purcase Count: {only_final_critic_count}')\n",
    "print(f'Oathbreaker Index, Item ID: {only_oathbreaker_id.head(1)}')\n",
    "print(f'Oathbreaker Index, Item Price: {only_oathbreaker_price.head(1)}')\n",
    "print(f'Oathbreaker Total Purcase Count: {only_oathbreaker_count}')\n",
    "print(f'Nirvana Index, Item ID: {only_nirvana_id.head(1)}')\n",
    "print(f'Nirvana Index, Item Price: {only_oathbreaker_price.head(1)}')\n",
    "print(f'Nirvana Total Purcase Count: {only_nirvana_count}')\n",
    "print(f'Fiery Glass Crusader Index, Item ID: {only_fiery_glass_crusader_id.head(1)}')\n",
    "print(f'Fiery Glass Crusader Index, Item Price: {only_fiery_glass_crusader_price.head(1)}')\n",
    "print(f'Fiery Glass Crusader Total Purcase Count: {only_fiery_glass_crusader_count}')\n",
    "print(f'Signed Scalpel Index, Item ID: {only_signed_scalpel_id.head(1)}')\n",
    "print(f'Signed Scalpel Index, Item Price: {only_signed_scalpel_price.head(1)}')\n",
    "print(f'Signed Scalpel Total Purcase Count: {only_signed_scalpel_count}')"
   ]
  },
  {
   "cell_type": "code",
   "execution_count": null,
   "metadata": {
    "scrolled": true
   },
   "outputs": [],
   "source": []
  },
  {
   "cell_type": "code",
   "execution_count": null,
   "metadata": {},
   "outputs": [],
   "source": []
  },
  {
   "cell_type": "code",
   "execution_count": null,
   "metadata": {},
   "outputs": [],
   "source": []
  },
  {
   "cell_type": "code",
   "execution_count": null,
   "metadata": {},
   "outputs": [],
   "source": []
  },
  {
   "cell_type": "code",
   "execution_count": null,
   "metadata": {},
   "outputs": [],
   "source": []
  }
 ],
 "metadata": {
  "kernelspec": {
   "display_name": "Python 3",
   "language": "python",
   "name": "python3"
  },
  "language_info": {
   "codemirror_mode": {
    "name": "ipython",
    "version": 3
   },
   "file_extension": ".py",
   "mimetype": "text/x-python",
   "name": "python",
   "nbconvert_exporter": "python",
   "pygments_lexer": "ipython3",
   "version": "3.7.3"
  }
 },
 "nbformat": 4,
 "nbformat_minor": 2
}
