{
 "cells": [
  {
   "cell_type": "code",
   "execution_count": 30,
   "metadata": {},
   "outputs": [],
   "source": [
    "import pandas as pd\n",
    "import numpy as np"
   ]
  },
  {
   "cell_type": "code",
   "execution_count": 17,
   "metadata": {},
   "outputs": [
    {
     "data": {
      "text/html": [
       "<div>\n",
       "<style scoped>\n",
       "    .dataframe tbody tr th:only-of-type {\n",
       "        vertical-align: middle;\n",
       "    }\n",
       "\n",
       "    .dataframe tbody tr th {\n",
       "        vertical-align: top;\n",
       "    }\n",
       "\n",
       "    .dataframe thead th {\n",
       "        text-align: right;\n",
       "    }\n",
       "</style>\n",
       "<table border=\"1\" class=\"dataframe\">\n",
       "  <thead>\n",
       "    <tr style=\"text-align: right;\">\n",
       "      <th></th>\n",
       "      <th>Purchase ID</th>\n",
       "      <th>SN</th>\n",
       "      <th>Age</th>\n",
       "      <th>Gender</th>\n",
       "      <th>Item ID</th>\n",
       "      <th>Item Name</th>\n",
       "      <th>Price</th>\n",
       "    </tr>\n",
       "  </thead>\n",
       "  <tbody>\n",
       "    <tr>\n",
       "      <th>0</th>\n",
       "      <td>0</td>\n",
       "      <td>Lisim78</td>\n",
       "      <td>20</td>\n",
       "      <td>Male</td>\n",
       "      <td>108</td>\n",
       "      <td>Extraction, Quickblade Of Trembling Hands</td>\n",
       "      <td>3.53</td>\n",
       "    </tr>\n",
       "    <tr>\n",
       "      <th>1</th>\n",
       "      <td>1</td>\n",
       "      <td>Lisovynya38</td>\n",
       "      <td>40</td>\n",
       "      <td>Male</td>\n",
       "      <td>143</td>\n",
       "      <td>Frenzied Scimitar</td>\n",
       "      <td>1.56</td>\n",
       "    </tr>\n",
       "    <tr>\n",
       "      <th>2</th>\n",
       "      <td>2</td>\n",
       "      <td>Ithergue48</td>\n",
       "      <td>24</td>\n",
       "      <td>Male</td>\n",
       "      <td>92</td>\n",
       "      <td>Final Critic</td>\n",
       "      <td>4.88</td>\n",
       "    </tr>\n",
       "    <tr>\n",
       "      <th>3</th>\n",
       "      <td>3</td>\n",
       "      <td>Chamassasya86</td>\n",
       "      <td>24</td>\n",
       "      <td>Male</td>\n",
       "      <td>100</td>\n",
       "      <td>Blindscythe</td>\n",
       "      <td>3.27</td>\n",
       "    </tr>\n",
       "    <tr>\n",
       "      <th>4</th>\n",
       "      <td>4</td>\n",
       "      <td>Iskosia90</td>\n",
       "      <td>23</td>\n",
       "      <td>Male</td>\n",
       "      <td>131</td>\n",
       "      <td>Fury</td>\n",
       "      <td>1.44</td>\n",
       "    </tr>\n",
       "  </tbody>\n",
       "</table>\n",
       "</div>"
      ],
      "text/plain": [
       "   Purchase ID             SN  Age Gender  Item ID  \\\n",
       "0            0        Lisim78   20   Male      108   \n",
       "1            1    Lisovynya38   40   Male      143   \n",
       "2            2     Ithergue48   24   Male       92   \n",
       "3            3  Chamassasya86   24   Male      100   \n",
       "4            4      Iskosia90   23   Male      131   \n",
       "\n",
       "                                   Item Name  Price  \n",
       "0  Extraction, Quickblade Of Trembling Hands   3.53  \n",
       "1                          Frenzied Scimitar   1.56  \n",
       "2                               Final Critic   4.88  \n",
       "3                                Blindscythe   3.27  \n",
       "4                                       Fury   1.44  "
      ]
     },
     "execution_count": 17,
     "metadata": {},
     "output_type": "execute_result"
    }
   ],
   "source": [
    "file = \"04-Pandas_homework_Instructions_HeroesOfPymoli_Resources_purchase_data.csv\"\n",
    "purchase_data = pd.read_csv(file)\n",
    "purchase_data.head()"
   ]
  },
  {
   "cell_type": "code",
   "execution_count": 36,
   "metadata": {},
   "outputs": [
    {
     "name": "stdout",
     "output_type": "stream",
     "text": [
      "576\n"
     ]
    }
   ],
   "source": [
    "#Total player count\n",
    "players_list = purchase_data[\"SN\"].unique()\n",
    "print(len(players_list))"
   ]
  },
  {
   "cell_type": "code",
   "execution_count": 19,
   "metadata": {},
   "outputs": [
    {
     "name": "stdout",
     "output_type": "stream",
     "text": [
      "['Extraction, Quickblade Of Trembling Hands' 'Frenzied Scimitar'\n",
      " 'Final Critic' 'Blindscythe' 'Fury' 'Dreamkiss'\n",
      " 'Interrogator, Blood Blade of the Queen' 'Abyssal Shard' 'Souleater'\n",
      " 'Ghastly Adamantite Protector' 'Singed Onyx Warscythe'\n",
      " 'Renewed Skeletal Katana' \"Bloodlord's Fetish\"\n",
      " 'Bone Crushing Silver Skewer' 'Deadline, Voice Of Subtlety'\n",
      " 'Second Chance' 'Devine' 'Nirvana' 'Blazefury, Protector of Delusions'\n",
      " 'Despair, Favor of Due Diligence' 'Sun Strike, Jaws of Twisted Visions'\n",
      " 'Warped Fetish' 'Severance' 'Persuasion'\n",
      " 'Oathbreaker, Last Hope of the Breaking Storm' 'Demise'\n",
      " 'Blood-Forged Skeletal Spine' 'Stormbringer, Dark Blade of Ending Misery'\n",
      " 'Shadow Strike, Glory of Ending Hope' 'Striker'\n",
      " 'Wolf, Promise of the Moonwalker' \"Faith's Scimitar\"\n",
      " 'Bonecarvin Battle Axe' 'Azurewrath' 'Vengeance Cleaver'\n",
      " 'Haunted Bronzed Bludgeon' 'Ritual Mace' 'Blade of the Grave'\n",
      " 'Thorn, Satchel of Dark Souls' \"Winter's Bite\"\n",
      " 'Thorn, Conqueror of the Corrupted' \"Reaper's Toll\" 'Avenger'\n",
      " 'Shadowsteel' 'Peacekeeper, Wit of Dark Magic' 'Suspension' 'Amnesia'\n",
      " 'Soul Infused Crystal' 'Wolf' 'Relentless Iron Skewer' 'Hero Cane'\n",
      " 'Arcane Gem' 'Dreamsong' 'Darkheart' 'Hailstorm Shadowsteel Scythe'\n",
      " 'Whistling Mithril Warblade' 'Foul Titanium Battle Axe' 'Retribution Axe'\n",
      " 'Rusty Skull' 'Riddle, Tribute of Ended Dreams' 'Chaos, Ender of the End'\n",
      " 'Storm-Weaver, Slayer of Inception' 'Venom Claymore'\n",
      " 'Emberling, Defender of Delusions' 'Netherbane' 'Dawn' 'Primitive Blade'\n",
      " 'Dawne' 'Curved Axe' 'Fate, Vengeance of Eternal Justice'\n",
      " 'Lazarus, Terror of the Earth' 'Lightning, Etcher of the King'\n",
      " 'Betrayal, Whisper of Grieving Widows' 'Exiled Doomblade'\n",
      " 'Undead Crusader' 'Downfall, Scalpel Of The Emperor' 'Sleepwalker'\n",
      " 'Eternal Cleaver' 'Expiration, Warscythe Of Lost Worlds' 'Malificent Bag'\n",
      " 'Mercy, Katana of Dismay' 'Orbit' 'Deathraze' 'Serenity'\n",
      " 'Heartstriker, Legacy of the Light' 'Glimmer, Ender of the Moon'\n",
      " 'Deluge, Edge of the West' 'Crucifer' 'Piece Maker'\n",
      " 'Brutality Ivory Warmace' \"Freak's Bite, Favor of Holy Might\"\n",
      " 'Yearning Crusher' 'Agatha' 'Fiery Glass Crusader' 'Splinter' 'Verdict'\n",
      " 'Warped Iron Scimitar' 'Darkheart, Butcher of the Champion'\n",
      " 'Purgatory, Gem of Regret' 'Woeful Adamantite Claymore'\n",
      " 'Hopeless Ebon Dualblade' \"Warmonger, Gift of Suffering's End\"\n",
      " \"Misery's End\" 'Phantomlight' 'Conqueror Adamantite Mace'\n",
      " \"Dragon's Greatsword\" 'Stormcaller' 'Spada, Etcher of Hatred'\n",
      " \"Twilight's Carver\" 'Putrid Fan' 'Blood Infused Guardian'\n",
      " 'Singed Scalpel' 'Warped Diamond Crusader' 'Endbringer' 'Feral Katana'\n",
      " 'Orenmir' 'Piety, Guardian of Riddles' 'Brimstone' 'Stormfury Mace'\n",
      " 'Frenzy, Defender of the Harvest' \"Solitude's Reaver\" 'Mercenary Sabre'\n",
      " 'Yearning Mageblade' 'Tranquility, Razor of Black Magic'\n",
      " 'Oathbreaker, Spellblade of Trials' 'Aetherius, Boon of the Blessed'\n",
      " 'Righteous Might' 'Victor Iron Spikes' 'Swan Song, Gouger Of Terror'\n",
      " 'Thunderfury Scimitar' 'Splitter, Foe Of Subtlety' 'Restored Bauble'\n",
      " 'The Decapitator' 'Pursuit, Cudgel of Necromancy' 'Lifebender'\n",
      " 'Flux, Destroyer of Due Diligence' 'Mourning Blade' 'Toothpick'\n",
      " \"Hope's End\" 'Torchlight, Bond of Storms' 'Thirsty Iron Reaver'\n",
      " 'Stormfury Longsword' 'Malice, Legacy of the Queen'\n",
      " 'War-Forged Gold Deflector' 'Blazeguard, Reach of Eternity'\n",
      " 'Soul-Forged Steel Shortsword' 'Hellreaver, Heirloom of Inception'\n",
      " 'Heartless Bone Dualblade' 'Scalpel' 'Hatred' 'Crying Steel Sickle'\n",
      " 'The Void, Vengeance of Dark Magic' 'Celeste'\n",
      " 'Ghost Reaver, Longsword of Magic'\n",
      " 'Celeste, Incarnation of the Corrupted' 'Glinting Glass Edge'\n",
      " 'The Oculus, Token of Lost Worlds' 'Massacre' 'Alpha, Oath of Zeal'\n",
      " 'Possessed Core' 'Foul Edge' 'Trickster' 'Fusion Pummel'\n",
      " 'Stormfury Lantern' 'Apocalyptic Battlescythe' 'Unholy Wand'\n",
      " 'Unending Tyranny' 'Ragnarok' 'Rage, Legacy of the Lone Victor'\n",
      " 'Worldbreaker' 'Exiled Mithril Longsword' 'Spectral Diamond Doomblade'\n",
      " 'Vindictive Glass Edge' 'Heartseeker, Reaver of Souls'\n",
      " 'Alpha, Reach of Ending Hope' 'Alpha' 'Betrayer'\n",
      " 'Winterthorn, Defender of Shifting Worlds' \"Gladiator's Glaive\"]\n"
     ]
    }
   ],
   "source": [
    "#Unique items\n",
    "unique_items = purchase_data[\"Item Name\"].unique()\n",
    "print(unique_items)"
   ]
  },
  {
   "cell_type": "code",
   "execution_count": 20,
   "metadata": {},
   "outputs": [
    {
     "name": "stdout",
     "output_type": "stream",
     "text": [
      "3.050987179487176\n"
     ]
    }
   ],
   "source": [
    "#Average purchase price\n",
    "average_purchase_price = purchase_data[\"Price\"].mean()\n",
    "print(average_purchase_price)"
   ]
  },
  {
   "cell_type": "code",
   "execution_count": 21,
   "metadata": {},
   "outputs": [
    {
     "name": "stdout",
     "output_type": "stream",
     "text": [
      "780\n"
     ]
    }
   ],
   "source": [
    "#Total number of purchases\n",
    "print(purchase_data[\"Price\"].count())"
   ]
  },
  {
   "cell_type": "code",
   "execution_count": 22,
   "metadata": {},
   "outputs": [
    {
     "name": "stdout",
     "output_type": "stream",
     "text": [
      "2379.77\n"
     ]
    }
   ],
   "source": [
    "#Total revenue\n",
    "total_revenue = purchase_data[\"Price\"].sum()\n",
    "print(total_revenue)"
   ]
  },
  {
   "cell_type": "code",
   "execution_count": 23,
   "metadata": {},
   "outputs": [
    {
     "name": "stdout",
     "output_type": "stream",
     "text": [
      "652\n",
      "83.58974358974359\n",
      "113\n",
      "14.487179487179489\n",
      "15\n",
      "1.9230769230769231\n"
     ]
    }
   ],
   "source": [
    "#Gender totals and percentages\n",
    "gender_total = purchase_data[\"Gender\"].count()\n",
    "\n",
    "only_males_list = purchase_data.loc[purchase_data[\"Gender\"] == \"Male\", :]\n",
    "only_males_count = len(only_males_list)\n",
    "only_females_list = purchase_data.loc[purchase_data[\"Gender\"] == \"Female\", :]\n",
    "only_females_count = len(only_females_list)\n",
    "only_non_binary_list = purchase_data.loc[purchase_data[\"Gender\"] == \"Other / Non-Disclosed\", :]\n",
    "only_non_binary_count = len(only_non_binary_list)\n",
    "\n",
    "males_percent = (only_males_count / gender_total) * 100\n",
    "females_percent = (only_females_count / gender_total) * 100\n",
    "non_binary_percent = (only_non_binary_count / gender_total) * 100\n",
    "\n",
    "print(only_males_count)\n",
    "print(males_percent)\n",
    "print(only_females_count)\n",
    "print(females_percent)\n",
    "print(only_non_binary_count)\n",
    "print(non_binary_percent)"
   ]
  },
  {
   "cell_type": "code",
   "execution_count": 24,
   "metadata": {},
   "outputs": [
    {
     "name": "stdout",
     "output_type": "stream",
     "text": [
      "Gender\n",
      "Female                   3.203009\n",
      "Male                     3.017853\n",
      "Other / Non-Disclosed    3.346000\n",
      "Name: Price, dtype: float64\n"
     ]
    }
   ],
   "source": [
    "#Gender breakdown of Purchase Count, Average Purchase Price, Total Purchase Value, and Average Purchase Total per Person\n",
    "grouped_purchase_data = purchase_data.groupby([\"Gender\"])\n",
    "grouped_purchase_data_means = grouped_purchase_data[\"Price\"].mean()\n",
    "print(grouped_purchase_data_means)"
   ]
  },
  {
   "cell_type": "code",
   "execution_count": 48,
   "metadata": {
    "scrolled": true
   },
   "outputs": [
    {
     "data": {
      "text/plain": [
       "'Total Purchase Count:'"
      ]
     },
     "metadata": {},
     "output_type": "display_data"
    },
    {
     "data": {
      "text/plain": [
       "Gender\n",
       "Female                   113\n",
       "Male                     652\n",
       "Other / Non-Disclosed     15\n",
       "Name: Purchase ID, dtype: int64"
      ]
     },
     "metadata": {},
     "output_type": "display_data"
    },
    {
     "data": {
      "text/plain": [
       "'Average Purchase Price:'"
      ]
     },
     "metadata": {},
     "output_type": "display_data"
    },
    {
     "data": {
      "text/plain": [
       "Gender\n",
       "Female                   3.203009\n",
       "Male                     3.017853\n",
       "Other / Non-Disclosed    3.346000\n",
       "Name: Price, dtype: float64"
      ]
     },
     "metadata": {},
     "output_type": "display_data"
    },
    {
     "data": {
      "text/plain": [
       "'Total Purchase Value:'"
      ]
     },
     "metadata": {},
     "output_type": "display_data"
    },
    {
     "data": {
      "text/plain": [
       "Gender\n",
       "Female                    361.94\n",
       "Male                     1967.64\n",
       "Other / Non-Disclosed      50.19\n",
       "Name: Price, dtype: float64"
      ]
     },
     "metadata": {},
     "output_type": "display_data"
    },
    {
     "data": {
      "text/plain": [
       "'Average Purchase Value per Person:'"
      ]
     },
     "metadata": {},
     "output_type": "display_data"
    },
    {
     "data": {
      "text/plain": [
       "Gender\n",
       "Female                   120.646667\n",
       "Male                     655.880000\n",
       "Other / Non-Disclosed     16.730000\n",
       "Name: Price, dtype: float64"
      ]
     },
     "metadata": {},
     "output_type": "display_data"
    }
   ],
   "source": [
    "#Gender breakdown\n",
    "gender_breakdown = purchase_data.groupby([\"Gender\"])\n",
    "\n",
    "purchase_count = gender_breakdown[\"Purchase ID\"].count()\n",
    "average_price = gender_breakdown[\"Price\"].mean()\n",
    "total_purchase_value = gender_breakdown[\"Price\"].sum()\n",
    "gendered_players_list = gender_breakdown[\"SN\"].unique()\n",
    "av_per_person = total_purchase_value / len(gendered_players_list)\n",
    "\n",
    "display(\"Total Purchase Count:\")\n",
    "display(purchase_count)\n",
    "display(\"Average Purchase Price:\")\n",
    "display(average_price)\n",
    "display(\"Total Purchase Value:\")\n",
    "display(total_purchase_value)\n",
    "display(\"Average Purchase Value per Person:\")\n",
    "display(av_per_person)"
   ]
  },
  {
   "cell_type": "code",
   "execution_count": 49,
   "metadata": {},
   "outputs": [
    {
     "data": {
      "text/plain": [
       "'Total Purchase Count:'"
      ]
     },
     "metadata": {},
     "output_type": "display_data"
    },
    {
     "data": {
      "text/plain": [
       "Gender\n",
       "Female                   113\n",
       "Male                     652\n",
       "Other / Non-Disclosed     15\n",
       "Name: Purchase ID, dtype: int64"
      ]
     },
     "metadata": {},
     "output_type": "display_data"
    },
    {
     "data": {
      "text/plain": [
       "'Average Purchase Price:'"
      ]
     },
     "metadata": {},
     "output_type": "display_data"
    },
    {
     "data": {
      "text/plain": [
       "Binned Ages\n",
       "Under 10     3.405000\n",
       "Btw 10-20    3.063622\n",
       "Btw 20-30    2.992687\n",
       "Btw 30-40    3.153647\n",
       "Btw 40-50    3.075714\n",
       "Over 50           NaN\n",
       "Name: Price, dtype: float64"
      ]
     },
     "metadata": {},
     "output_type": "display_data"
    },
    {
     "data": {
      "text/plain": [
       "'Total Purchase Value:'"
      ]
     },
     "metadata": {},
     "output_type": "display_data"
    },
    {
     "data": {
      "text/plain": [
       "Binned Ages\n",
       "Under 10      108.96\n",
       "Btw 10-20     778.16\n",
       "Btw 20-30    1203.06\n",
       "Btw 30-40     268.06\n",
       "Btw 40-50      21.53\n",
       "Over 50         0.00\n",
       "Name: Price, dtype: float64"
      ]
     },
     "metadata": {},
     "output_type": "display_data"
    },
    {
     "data": {
      "text/plain": [
       "'Average Purchase Value per Person:'"
      ]
     },
     "metadata": {},
     "output_type": "display_data"
    },
    {
     "data": {
      "text/plain": [
       "Binned Ages\n",
       "Under 10      18.160000\n",
       "Btw 10-20    129.693333\n",
       "Btw 20-30    200.510000\n",
       "Btw 30-40     44.676667\n",
       "Btw 40-50      3.588333\n",
       "Over 50        0.000000\n",
       "Name: Price, dtype: float64"
      ]
     },
     "metadata": {},
     "output_type": "display_data"
    },
    {
     "data": {
      "text/html": [
       "<div>\n",
       "<style scoped>\n",
       "    .dataframe tbody tr th:only-of-type {\n",
       "        vertical-align: middle;\n",
       "    }\n",
       "\n",
       "    .dataframe tbody tr th {\n",
       "        vertical-align: top;\n",
       "    }\n",
       "\n",
       "    .dataframe thead th {\n",
       "        text-align: right;\n",
       "    }\n",
       "</style>\n",
       "<table border=\"1\" class=\"dataframe\">\n",
       "  <thead>\n",
       "    <tr style=\"text-align: right;\">\n",
       "      <th></th>\n",
       "      <th>Total Purchase Count</th>\n",
       "      <th>Average Purchase Price</th>\n",
       "      <th>Total Purchase Value</th>\n",
       "      <th>Average Purchase Value per Person</th>\n",
       "    </tr>\n",
       "  </thead>\n",
       "  <tbody>\n",
       "    <tr>\n",
       "      <th>0</th>\n",
       "      <td>Gender\n",
       "Female                   113\n",
       "Male      ...</td>\n",
       "      <td>Binned Ages\n",
       "Under 10     3.405000\n",
       "Btw 10-20   ...</td>\n",
       "      <td>NaN</td>\n",
       "      <td>NaN</td>\n",
       "    </tr>\n",
       "    <tr>\n",
       "      <th>1</th>\n",
       "      <td>NaN</td>\n",
       "      <td>NaN</td>\n",
       "      <td>Binned Ages\n",
       "Under 10      108.96\n",
       "Btw 10-20    ...</td>\n",
       "      <td>Binned Ages\n",
       "Under 10      18.160000\n",
       "Btw 10-20 ...</td>\n",
       "    </tr>\n",
       "  </tbody>\n",
       "</table>\n",
       "</div>"
      ],
      "text/plain": [
       "                                Total Purchase Count  \\\n",
       "0  Gender\n",
       "Female                   113\n",
       "Male      ...   \n",
       "1                                                NaN   \n",
       "\n",
       "                              Average Purchase Price  \\\n",
       "0  Binned Ages\n",
       "Under 10     3.405000\n",
       "Btw 10-20   ...   \n",
       "1                                                NaN   \n",
       "\n",
       "                                Total Purchase Value  \\\n",
       "0                                                NaN   \n",
       "1  Binned Ages\n",
       "Under 10      108.96\n",
       "Btw 10-20    ...   \n",
       "\n",
       "                   Average Purchase Value per Person  \n",
       "0                                                NaN  \n",
       "1  Binned Ages\n",
       "Under 10      18.160000\n",
       "Btw 10-20 ...  "
      ]
     },
     "metadata": {},
     "output_type": "display_data"
    }
   ],
   "source": [
    "#Binning based on age\n",
    "bins = [0,10,20,30,40,50,1000]\n",
    "group_names = [\"Under 10\", \"Btw 10-20\", \"Btw 20-30\", \"Btw 30-40\", \"Btw 40-50\", \"Over 50\",]\n",
    "\n",
    "purchase_data[\"Binned Ages\"] = pd.cut(purchase_data[\"Age\"], bins, labels = group_names)\n",
    "\n",
    "age_breakdown = purchase_data.groupby([\"Binned Ages\"])\n",
    "\n",
    "total_purchase_count = age_breakdown[\"Purchase ID\"].count()\n",
    "average_price = age_breakdown[\"Price\"].mean()\n",
    "total_purchase_value = age_breakdown[\"Price\"].sum()\n",
    "age_binned_players_list = age_breakdown[\"SN\"].unique()\n",
    "av_per_person = total_purchase_value / len(age_binned_players_list)\n",
    "\n",
    "display(\"Total Purchase Count:\")\n",
    "display(purchase_count)\n",
    "display(\"Average Purchase Price:\")\n",
    "display(average_price)\n",
    "display(\"Total Purchase Value:\")\n",
    "display(total_purchase_value)\n",
    "display(\"Average Purchase Value per Person:\")\n",
    "display(av_per_person)\n",
    "\n",
    "age_summary = [{\"Total Purchase Count\": purchase_count, \"Average Purchase Price\": average_price},\n",
    "                {\"Total Purchase Value\": total_purchase_value, \"Average Purchase Value per Person\": av_per_person}]\n",
    "df_age_summary = pd.DataFrame(age_summary)\n",
    "display(df_age_summary)"
   ]
  },
  {
   "cell_type": "code",
   "execution_count": null,
   "metadata": {},
   "outputs": [],
   "source": []
  }
 ],
 "metadata": {
  "kernelspec": {
   "display_name": "Python 3",
   "language": "python",
   "name": "python3"
  },
  "language_info": {
   "codemirror_mode": {
    "name": "ipython",
    "version": 3
   },
   "file_extension": ".py",
   "mimetype": "text/x-python",
   "name": "python",
   "nbconvert_exporter": "python",
   "pygments_lexer": "ipython3",
   "version": "3.7.3"
  }
 },
 "nbformat": 4,
 "nbformat_minor": 2
}
